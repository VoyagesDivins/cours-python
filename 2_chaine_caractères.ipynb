{
 "cells": [
  {
   "attachments": {},
   "cell_type": "markdown",
   "id": "a7b66dd3-97fc-4878-9114-1b59da9a7d47",
   "metadata": {},
   "source": [
    "# Chaine de caractères\n",
    "\n",
    "Une chaine de caractères est une suite de caractères entouré au choix par les délimiteurs suivants :\n",
    "- guillemet simple\n",
    "- guillemet double\n",
    "- triple guillemet simple\n",
    "- triple guillemet double\n",
    "\n",
    "## Exemple"
   ]
  },
  {
   "cell_type": "code",
   "execution_count": 2,
   "id": "76d324a7-bde5-4928-80fd-eb79b12aa301",
   "metadata": {},
   "outputs": [
    {
     "name": "stdout",
     "output_type": "stream",
     "text": [
      "je suis une chaîne de caractères !\n",
      "moi aussi j'en suis une\n",
      "\n",
      "oeuf\n",
      "farine\n",
      "sucre\n",
      "\n",
      "\n",
      "un poème\n",
      "une fleur\n",
      "un tandem\n",
      "des pleurs\n"
     ]
    }
   ],
   "source": [
    "c_est_simple = 'je suis une chaîne de caractères !'\n",
    "print(c_est_simple)\n",
    "# A l'intérieur d'une chaine de caractères entre double quote, on peut mettre le caractère simple quote\n",
    "je_double = \"moi aussi j'en suis une\"\n",
    "print(je_double)\n",
    "# Pour les chaînes de caractères multilignes, on met trois quote\n",
    "une_liste = '''\n",
    "oeuf\n",
    "farine\n",
    "sucre\n",
    "'''\n",
    "print(une_liste)\n",
    "quatres_lignes = \"\"\"\n",
    "un poème\n",
    "une fleur\n",
    "un tandem\n",
    "des pleurs\"\"\"\n",
    "print(quatres_lignes)\n"
   ]
  },
  {
   "cell_type": "markdown",
   "id": "2bd1ec2d-ddd6-45ab-8a1f-cc7e593d15bb",
   "metadata": {},
   "source": [
    "Le type d'une chaîne de caractères est **str** pour string."
   ]
  },
  {
   "cell_type": "code",
   "execution_count": 3,
   "id": "4fbd66fd-50cf-4c1c-b5d9-43a5d1dc7e0e",
   "metadata": {},
   "outputs": [
    {
     "data": {
      "text/plain": [
       "str"
      ]
     },
     "execution_count": 3,
     "metadata": {},
     "output_type": "execute_result"
    }
   ],
   "source": [
    "type(c_est_simple)"
   ]
  },
  {
   "cell_type": "markdown",
   "id": "45922cb7-8245-4bb6-80f3-094b0b5a962f",
   "metadata": {},
   "source": [
    "## Opérations sur les chaînes de caractères\n",
    "\n",
    "On peut concatener des chaînes avec l'opérateur **+**."
   ]
  },
  {
   "cell_type": "code",
   "execution_count": 4,
   "id": "263c4ee6-f98a-48c9-9fbf-c8c62dc74aeb",
   "metadata": {},
   "outputs": [
    {
     "name": "stdout",
     "output_type": "stream",
     "text": [
      "je suis une chaîne de caractères !moi aussi j'en suis une\n"
     ]
    }
   ],
   "source": [
    "ensemble = c_est_simple + je_double\n",
    "print(ensemble)"
   ]
  },
  {
   "cell_type": "markdown",
   "id": "fcb6b168-f804-4586-a608-6133bc538033",
   "metadata": {},
   "source": [
    "On peut mesure la longueur (le nombre de caractères qui composent) de la chaîne avec la fonction **len()**."
   ]
  },
  {
   "cell_type": "code",
   "execution_count": 5,
   "id": "be217214-bec9-447a-aa15-5ce8048bc93a",
   "metadata": {},
   "outputs": [
    {
     "name": "stdout",
     "output_type": "stream",
     "text": [
      "34\n"
     ]
    }
   ],
   "source": [
    "print(len(c_est_simple))"
   ]
  },
  {
   "cell_type": "code",
   "execution_count": 6,
   "id": "2ba35479-8e55-41a5-a59f-fabbc333a0c9",
   "metadata": {},
   "outputs": [
    {
     "name": "stdout",
     "output_type": "stream",
     "text": [
      "40\n"
     ]
    }
   ],
   "source": [
    "print(len(quatres_lignes))"
   ]
  },
  {
   "cell_type": "markdown",
   "id": "e4072f9e-c2d0-4dbe-9989-ee4df2413342",
   "metadata": {},
   "source": [
    "Le saut de ligne compte comme un caractère."
   ]
  },
  {
   "cell_type": "markdown",
   "id": "c70bf7b9-fcc2-49c1-8040-716108d7cd72",
   "metadata": {},
   "source": [
    "Il existe de nombreuses autres fonctions pour manipuler les chaînes.\n",
    "\n",
    "Voici quelques exemples :"
   ]
  },
  {
   "cell_type": "code",
   "execution_count": 9,
   "id": "74bfd234-01bd-4d49-8155-8e0ef1b72e0b",
   "metadata": {},
   "outputs": [
    {
     "name": "stdout",
     "output_type": "stream",
     "text": [
      "JE SUIS UNE CHAÎNE DE CARACTÈRES !\n"
     ]
    }
   ],
   "source": [
    "# Mettre en majuscule\n",
    "print(c_est_simple.upper())"
   ]
  },
  {
   "cell_type": "code",
   "execution_count": 12,
   "id": "4d4b5080-b4ba-4422-83c4-d52d0df32785",
   "metadata": {},
   "outputs": [
    {
     "name": "stdout",
     "output_type": "stream",
     "text": [
      "je suis une chaîne de caractères !\n"
     ]
    }
   ],
   "source": [
    "# Attention la fonction ne change pas la valeur de la variable, elle en créé une nouvelle\n",
    "print(c_est_simple)"
   ]
  },
  {
   "cell_type": "code",
   "execution_count": 13,
   "id": "443e3f7e-f007-48f6-9f83-55d4155cd54f",
   "metadata": {},
   "outputs": [
    {
     "name": "stdout",
     "output_type": "stream",
     "text": [
      "JE SUIS UNE CHAÎNE DE CARACTÈRES !\n",
      "je suis une chaîne de caractères !\n"
     ]
    }
   ],
   "source": [
    "c_est_en_maj = c_est_simple.upper()\n",
    "print(c_est_en_maj)\n",
    "print(c_est_simple)"
   ]
  },
  {
   "cell_type": "code",
   "execution_count": 15,
   "id": "f5190cf0-a31b-477e-90dd-153db6be6dba",
   "metadata": {},
   "outputs": [
    {
     "name": "stdout",
     "output_type": "stream",
     "text": [
      "    je suis entouré d'espace      \n",
      "je suis entouré d'espace\n"
     ]
    }
   ],
   "source": [
    "# Enlever les espaces en début et en fin de chaîne\n",
    "il_y_a_des_espaces = \"    je suis entouré d'espace      \"\n",
    "il_y_en_a_moins = il_y_a_des_espaces.strip()\n",
    "print(il_y_a_des_espaces)\n",
    "print(il_y_en_a_moins)"
   ]
  },
  {
   "cell_type": "markdown",
   "id": "accde4c0-1ce3-4585-b047-3720096a9057",
   "metadata": {},
   "source": [
    "## Exercices\n",
    "A l'aide de la documentation :\n",
    "[ici](https://docs.python.org/fr/3/library/stdtypes.html#string-methods) \n",
    "- Trouver une fonction qui met la première lettre de chaque mot en majuscule et le reste en minuscle"
   ]
  },
  {
   "cell_type": "code",
   "execution_count": 33,
   "id": "ff58b95e-107f-448b-8f04-d50614d75a34",
   "metadata": {},
   "outputs": [],
   "source": [
    "# remplacer fonction_mystere_1 par le bon nom de fonction et enlever les commentaires pour les deux lignes qui suivent\n",
    "# debut_mot_maj = \"un pour tous, tous pour un\".fonction_mystere_1()\n",
    "# print(debut_mot_maj)\n",
    "# Un Pour Tous, Tous Pour Un"
   ]
  },
  {
   "cell_type": "markdown",
   "id": "582ebcd8-e3f0-437b-943d-e879639260f2",
   "metadata": {},
   "source": [
    "- Trouver une fonction qui renvoie vrai si la chaine passée en paramètre se trouve au début de la chaîne et faux sinon."
   ]
  },
  {
   "cell_type": "code",
   "execution_count": 41,
   "id": "20f11a2d-1127-44ea-9e94-3207cd9de80e",
   "metadata": {},
   "outputs": [],
   "source": [
    "# remplacer fonction_mystere_2 par le bon nom de fonction et enlever les commentaires pour les deux lignes qui suivent\n",
    "# print(\"Je suis une banane\".fonction_mystere_2(\"Je\"))\n",
    "# print(\"Je suis une banane\".fonction_mystere_2(\"La\"))"
   ]
  },
  {
   "cell_type": "markdown",
   "id": "08cb39b4-b854-478e-909e-ce2538dca992",
   "metadata": {},
   "source": [
    "## Cast\n",
    "On peut changer le type d'une variable, ça s'appelle **cast**.\n",
    "\n",
    "Pour changer un type autre vers un type str, on utilise la fonction **str**"
   ]
  },
  {
   "cell_type": "code",
   "execution_count": 16,
   "id": "a73b8cd7-0118-48db-aa62-e5085a29b6db",
   "metadata": {},
   "outputs": [
    {
     "name": "stdout",
     "output_type": "stream",
     "text": [
      "90\n",
      "<class 'int'>\n",
      "90\n",
      "<class 'str'>\n"
     ]
    }
   ],
   "source": [
    "je_suis_un_nombre = 90\n",
    "print(je_suis_un_nombre)\n",
    "print(type(je_suis_un_nombre))\n",
    "je_suis_une_chaine = str(je_suis_un_nombre)\n",
    "print(je_suis_une_chaine)\n",
    "print(type(je_suis_une_chaine))\n"
   ]
  },
  {
   "cell_type": "markdown",
   "id": "a8bc3487-3348-4712-8e43-45f84c5aba32",
   "metadata": {},
   "source": [
    "L'opérateur **+** a une signification différente en fonction du type des variables."
   ]
  },
  {
   "cell_type": "code",
   "execution_count": 17,
   "id": "4185850f-ba8c-45a8-b658-97a291a478ab",
   "metadata": {},
   "outputs": [
    {
     "name": "stdout",
     "output_type": "stream",
     "text": [
      "70\n",
      "<class 'int'>\n",
      "3040\n",
      "<class 'str'>\n"
     ]
    }
   ],
   "source": [
    "nb_1 = 30 \n",
    "nb_2 = 40\n",
    "somme = nb_1 + nb_2\n",
    "print(somme)\n",
    "print(type(somme))\n",
    "str_1 = \"30\"\n",
    "str_2 = \"40\"\n",
    "concat = str_1 + str_2\n",
    "print(concat)\n",
    "print(type(concat))"
   ]
  },
  {
   "cell_type": "markdown",
   "id": "8fbae615-de93-4bbf-a385-a73db026cd59",
   "metadata": {},
   "source": [
    "On ne peut pas mélanger les types dans une opération."
   ]
  },
  {
   "cell_type": "code",
   "execution_count": 19,
   "id": "558fa2c6-5309-4bba-9c52-e7af04d05ebe",
   "metadata": {},
   "outputs": [
    {
     "ename": "TypeError",
     "evalue": "unsupported operand type(s) for +: 'int' and 'str'",
     "output_type": "error",
     "traceback": [
      "\u001b[1;31m---------------------------------------------------------------------------\u001b[0m",
      "\u001b[1;31mTypeError\u001b[0m                                 Traceback (most recent call last)",
      "Cell \u001b[1;32mIn[19], line 1\u001b[0m\n\u001b[1;32m----> 1\u001b[0m ca_marche_pas \u001b[38;5;241m=\u001b[39m nb_1 \u001b[38;5;241m+\u001b[39m str_1\n",
      "\u001b[1;31mTypeError\u001b[0m: unsupported operand type(s) for +: 'int' and 'str'"
     ]
    }
   ],
   "source": [
    "ca_marche_pas = nb_1 + str_1"
   ]
  },
  {
   "cell_type": "markdown",
   "id": "e5e6c80d-db46-4d46-82f1-a9ab5fda20bc",
   "metadata": {},
   "source": [
    "Pour rendre possible cette opération il faut que les deux variables aient le même type :"
   ]
  },
  {
   "cell_type": "code",
   "execution_count": 21,
   "id": "48251e3a-ecac-40de-a953-aec6e92fdcd2",
   "metadata": {},
   "outputs": [
    {
     "name": "stdout",
     "output_type": "stream",
     "text": [
      "3030\n",
      "<class 'str'>\n"
     ]
    }
   ],
   "source": [
    "ca_marche = str(nb_1) + str_1\n",
    "print(ca_marche)\n",
    "print(type(ca_marche))"
   ]
  },
  {
   "cell_type": "markdown",
   "id": "7af89ec0-142c-4157-a156-da70a7006673",
   "metadata": {},
   "source": [
    "L'inverse est possible aussi. Pour changer le type de chaîne vers entier on utilise la fonction **in()**."
   ]
  },
  {
   "cell_type": "code",
   "execution_count": 22,
   "id": "50596266-8ac8-440e-aab0-e83f8f7ce90f",
   "metadata": {},
   "outputs": [
    {
     "name": "stdout",
     "output_type": "stream",
     "text": [
      "60\n",
      "<class 'int'>\n"
     ]
    }
   ],
   "source": [
    "ca_marche_aussi = nb_1 + int(str_1)\n",
    "print(ca_marche_aussi)\n",
    "print(type(ca_marche_aussi))"
   ]
  },
  {
   "cell_type": "markdown",
   "id": "1e11d692-0a36-44c9-b22f-2b70e9f826e6",
   "metadata": {},
   "source": [
    "## Fonction format()\n",
    "Avec la fonction format on peut insérer des varaibles dans une chaîne de caractères, le cast est alors automatique."
   ]
  },
  {
   "cell_type": "code",
   "execution_count": 24,
   "id": "332f2aa5-411f-439f-aee4-dc9fecd88f2c",
   "metadata": {},
   "outputs": [
    {
     "name": "stdout",
     "output_type": "stream",
     "text": [
      "J'aime la nombre rond, par exemple : 1000. C'est beau !\n"
     ]
    }
   ],
   "source": [
    "auto_cast = \"J'aime la nombre rond, par exemple : {}. C'est beau !\".format(1000)\n",
    "print(auto_cast)"
   ]
  },
  {
   "cell_type": "markdown",
   "id": "8b4ed559-46b9-4977-9b36-d800fbda3eab",
   "metadata": {},
   "source": [
    "On met autant de variable qu'on souhaite, et de n'importe quel type."
   ]
  },
  {
   "cell_type": "code",
   "execution_count": 28,
   "id": "372c136f-4fbb-47fe-9b50-effd79f11f02",
   "metadata": {},
   "outputs": [
    {
     "name": "stdout",
     "output_type": "stream",
     "text": [
      "Du texte : ici, des nombres : 8, 534, un booléen : False, encore du texte : \"la la lèèèèère\" et puis plus rien.\n"
     ]
    }
   ],
   "source": [
    "la = '\"la la lèèèèère\"'\n",
    "sans_sens = \"Du texte : {}, des nombres : {}, {}, un booléen : {}, encore du texte : {} et puis plus rien.\".format(\"ici\", 8, 534, False, la)\n",
    "print(sans_sens)"
   ]
  },
  {
   "cell_type": "markdown",
   "id": "5ff3160b-1f22-4272-8a98-8889d8da5765",
   "metadata": {},
   "source": [
    "## Échappement\n",
    "Pour utiliser le caractère **'** dans une chaîne de caractères délimitée par des **'**, ou le caractère **\"** dans une chaîne de caractères délimitée par **\"**\n",
    "on utilise le caractère d'échappement **\\\\**."
   ]
  },
  {
   "cell_type": "code",
   "execution_count": 30,
   "id": "5c8d3f48-0804-43a6-85fb-5ce1790d7976",
   "metadata": {},
   "outputs": [
    {
     "name": "stdout",
     "output_type": "stream",
     "text": [
      "J'en ai aujourd'hui.\n",
      "Ceci est une citation : \"Quand le ciel bas et lourd pèse comme un couvercle...\" mais elle n'est pas terminée.\n"
     ]
    }
   ],
   "source": [
    "apostrophe = 'J\\'en ai aujourd\\'hui.'\n",
    "print(apostrophe)\n",
    "double_jeu = \"Ceci est une citation : \\\"Quand le ciel bas et lourd pèse comme un couvercle...\\\" mais elle n'est pas terminée.\"\n",
    "print(double_jeu)"
   ]
  },
  {
   "cell_type": "code",
   "execution_count": null,
   "id": "9fad455a-f453-4163-abea-7d22a12f2641",
   "metadata": {},
   "outputs": [],
   "source": []
  }
 ],
 "metadata": {
  "kernelspec": {
   "display_name": "Python 3 (ipykernel)",
   "language": "python",
   "name": "python3"
  },
  "language_info": {
   "codemirror_mode": {
    "name": "ipython",
    "version": 3
   },
   "file_extension": ".py",
   "mimetype": "text/x-python",
   "name": "python",
   "nbconvert_exporter": "python",
   "pygments_lexer": "ipython3",
   "version": "3.12.7"
  }
 },
 "nbformat": 4,
 "nbformat_minor": 5
}
