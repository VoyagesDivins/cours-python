{
 "cells": [
  {
   "cell_type": "markdown",
   "id": "dd936b67-bbcb-41b3-a818-91b712d8f313",
   "metadata": {},
   "source": [
    "## Exercice 1\n",
    "\n",
    "Les commentaires permettent de mieux comprendre le comportement du programme."
   ]
  },
  {
   "cell_type": "code",
   "execution_count": 3,
   "id": "3ed5fae6-bb89-4d8b-a59c-14e9452dae9a",
   "metadata": {},
   "outputs": [
    {
     "name": "stdout",
     "output_type": "stream",
     "text": [
      "336531\n",
      "abasourdi\n"
     ]
    }
   ],
   "source": [
    "# On utilise des fonctions qui se trouvent dans le module os.path\n",
    "import os.path\n",
    "\n",
    "# On met le nom du fichier que l'on veut lire dans la variable nom_fichier\n",
    "nom_fichier = \"liste_de_mots_francais_fr_gut.txt\"\n",
    "\n",
    "# On déclare une liste\n",
    "liste_mots = []\n",
    "\n",
    "# On vérifie qu'il existe bien un fichier avec ce nom\n",
    "if not os.path.isfile(nom_fichier):\n",
    "    print(\"Le fichier n'existe pas !\")\n",
    "else:\n",
    "    # On ouvre le fichier et on lit son contenue.\n",
    "    with open(nom_fichier, encoding=\"utf8\") as f:\n",
    "        contenu_fichier = f.read().splitlines()\n",
    "\n",
    "    # On ajoute chaque ligne du fichier à la liste\n",
    "    for ligne in contenu_fichier:\n",
    "        liste_mots.append(ligne)\n",
    "\n",
    "print(len(liste_mots)) # On affiche la taille de la liste\n",
    "print(liste_mots[98]) # On affiche le 99ème mot"
   ]
  },
  {
   "cell_type": "markdown",
   "id": "2e063e41-b09c-465a-b141-603c576608c5",
   "metadata": {},
   "source": [
    "## Exercice 2\n",
    "A partir de la liste de mot créée en exercice 1, contruire une deuxième liste, appelée liste_mots_sept_lettres, qui ne contient que des mots de 7 lettres."
   ]
  },
  {
   "cell_type": "code",
   "execution_count": 7,
   "id": "652ec5f0-bc5d-46a7-9e42-111110a7b42b",
   "metadata": {},
   "outputs": [
    {
     "name": "stdout",
     "output_type": "stream",
     "text": [
      "22194\n",
      "poêler\n",
      "\n",
      "abaissa\n",
      "abaisse\n",
      "abajoue\n",
      "abandon\n",
      "abaques\n",
      "abatage\n",
      "abatée\n",
      "abattes\n",
      "abattez\n",
      "abattis\n"
     ]
    }
   ],
   "source": [
    "# On déclare une variable avec une liste vide\n",
    "liste_mots_sept_lettres = []\n",
    "\n",
    "# On parcours chaque mot de liste_mots\n",
    "for mot in liste_mots:\n",
    "    # On teste si le mot fait est composé de sept lettres\n",
    "    if len(mot) == 7:\n",
    "        # On ajoute le mot à la liste\n",
    "        liste_mots_sept_lettres.append(mot)\n",
    "\n",
    "# On affiche la taille de la liste, c'est à dire le nombre de mots qui sont composé de sept lettres\n",
    "print(len(liste_mots_sept_lettres))\n",
    "\n",
    "# On affiche le 15983 ème mot\n",
    "print(liste_mots_sept_lettres[15982])\n",
    "print()\n",
    "\n",
    "# On affiche les dix premiers mots \n",
    "for mot_sept_lettres in liste_mots_sept_lettres[:10]:\n",
    "    print(mot_sept_lettres)"
   ]
  },
  {
   "cell_type": "markdown",
   "id": "f9a7b11a-0b17-4d71-9416-cffdd624b723",
   "metadata": {},
   "source": [
    "## Exercice 3\n",
    "\n",
    "### Distribution lettres de la pioche au Scrabble français\n",
    "\n",
    "1 point : E ×15, A ×9, I ×8, N ×6, O ×6, R ×6, S ×6, T ×6, U ×6, L ×5\n",
    "\n",
    "2 points : D ×3, G ×2, M ×3\n",
    "\n",
    "3 points : B ×2, C ×2, P ×2\n",
    "\n",
    "4 points : F ×2, H ×2, V ×2\n",
    "\n",
    "8 points : J ×1, Q ×1\n",
    "\n",
    "10 points : K ×1, W ×1, X ×1, Y ×1, Z ×1"
   ]
  },
  {
   "cell_type": "code",
   "execution_count": 32,
   "id": "73f86aa5-c08a-4f5d-b8d0-5f41a2b11722",
   "metadata": {},
   "outputs": [
    {
     "name": "stdout",
     "output_type": "stream",
     "text": [
      "AAAAA\n",
      "LALALA\n",
      "LALALERE\n",
      "LALALERE\n",
      "2\n",
      "Beaucoup\n"
     ]
    }
   ],
   "source": [
    "# On peut créer une chaine à partir d'une lettre en utilisant la multiplication\n",
    "print(\"A\" * 5)\n",
    "print(\"LA\" * 3)\n",
    "\n",
    "# On concatène deux chaines avec le signe +\n",
    "print(\"LALA\" + \"LERE\")\n",
    "\n",
    "# On peut combiner les deux\n",
    "print(\"LA\" * 2 + \"LERE\")\n",
    "\n",
    "# l'opérateur += permet de concaténé à soi même pour une chaine de caractère et d'addition à soi meme pour un nombre\n",
    "#   x += 8 est l'équivalent de   x = x + 8\n",
    "#   mot += \"rire\" est l'équivalent de mot = mot + \"rire\"\n",
    "x = 1\n",
    "x += 1\n",
    "print(x)\n",
    "mi_mot = \"Beau\"\n",
    "mi_mot += \"coup\"\n",
    "print(mi_mot)"
   ]
  },
  {
   "cell_type": "code",
   "execution_count": 35,
   "id": "30f22240-5092-408c-a13d-1d865f94f54d",
   "metadata": {},
   "outputs": [
    {
     "name": "stdout",
     "output_type": "stream",
     "text": [
      "EEEEEEEEEEEEEEEAAAAAAAAAIIIIIIIINNNNNNOOOOOORRRRRRSSSSSSTTTTTTUUUUUULLLLLDDDGGMMMBBCCPPFFHHVVJQKWXYZ\n",
      "<class 'str'>\n",
      "eeeeeeeeeeeeeeeaaaaaaaaaiiiiiiiinnnnnnoooooorrrrrrssssssttttttuuuuuullllldddggmmmbbccppffhhvvjqkwxyz\n",
      "\n",
      "['e', 'e', 'e', 'e', 'e', 'e', 'e', 'e', 'e', 'e', 'e', 'e', 'e', 'e', 'e', 'a', 'a', 'a', 'a', 'a', 'a', 'a', 'a', 'a', 'i', 'i', 'i', 'i', 'i', 'i', 'i', 'i', 'n', 'n', 'n', 'n', 'n', 'n', 'o', 'o', 'o', 'o', 'o', 'o', 'r', 'r', 'r', 'r', 'r', 'r', 's', 's', 's', 's', 's', 's', 't', 't', 't', 't', 't', 't', 'u', 'u', 'u', 'u', 'u', 'u', 'l', 'l', 'l', 'l', 'l', 'd', 'd', 'd', 'g', 'g', 'm', 'm', 'm', 'b', 'b', 'c', 'c', 'p', 'p', 'f', 'f', 'h', 'h', 'v', 'v', 'j', 'q', 'k', 'w', 'x', 'y', 'z']\n",
      "<class 'list'>\n",
      "\n",
      "La pioche contient 100 lettres.\n"
     ]
    }
   ],
   "source": [
    "# On prend chaque lettre et on la concatère autant de fois qu'elle existe dans la pioche\n",
    "# On fait ça pour chaque lettre\n",
    "pioche = \"E\" * 15 + \"A\" * 9 + \"I\" * 8 + \"N\" * 6 + \"O\" * 6 + \"R\" * 6 + \"S\" * 6 + \"T\" * 6 + \"U\" * 6 + \"L\" * 5\n",
    "pioche += \"D\" * 3 + \"G\" * 2 + \"M\" * 3\n",
    "pioche += \"B\" * 2 + \"C\" * 2 + \"P\" * 2\n",
    "pioche += \"F\" * 2 + \"H\" * 2 + \"V\" * 2\n",
    "pioche += \"J\" * 1 + \"Q\" * 1\n",
    "pioche += \"K\" * 1 + \"W\" * 1 + \"X\" * 1 + \"Y\" * 1 + \"Z\" * 1\n",
    "# On obtient une unique chaine de caractère avec chaque lettre autant de fois qu'elles existent dans la pioche\n",
    "print(pioche)\n",
    "print(type(pioche))\n",
    "# On met les lettre en minuscule\n",
    "pioche = pioche.lower()\n",
    "print(pioche + \"\\n\")\n",
    "\n",
    "# On transform les chaine de caractères en une liste de caractères\n",
    "liste_lettres_pioches = list(pioche)\n",
    "print(liste_lettres_pioches)\n",
    "print(type(liste_lettres_pioches))\n",
    "# On compte le nombre de lettre dans la pioche et récupérant la taille de la liste\n",
    "print(\"\\nLa pioche contient {} lettres.\".format(len(liste_lettres_pioches)))"
   ]
  },
  {
   "cell_type": "markdown",
   "id": "1f49f6c0-c912-4e50-9d24-28297e6c3212",
   "metadata": {},
   "source": [
    "## 3.2 Tirage"
   ]
  },
  {
   "cell_type": "code",
   "execution_count": 39,
   "id": "e254cfe3-9943-44b6-903c-1ed237b97454",
   "metadata": {},
   "outputs": [],
   "source": [
    "# Sept fois de suite\n",
    "for i in range(7):\n",
    "    # On génère un entier au hazard, entre 0 et le nombre de mot dans la liste moins 1\n",
    "    # On récupère la lettre qui se trouve à l'indice généré au hasard\n",
    "    # on l'ajoute à notre liste_tirage\n",
    "    # on conserve l'indice en mémoire pour ne pas le tirer une deuxième fois\n",
    "    pass"
   ]
  },
  {
   "cell_type": "code",
   "execution_count": null,
   "id": "8345db9e-7a28-4877-9812-4a15cf284197",
   "metadata": {},
   "outputs": [],
   "source": []
  }
 ],
 "metadata": {
  "kernelspec": {
   "display_name": "Python 3 (ipykernel)",
   "language": "python",
   "name": "python3"
  },
  "language_info": {
   "codemirror_mode": {
    "name": "ipython",
    "version": 3
   },
   "file_extension": ".py",
   "mimetype": "text/x-python",
   "name": "python",
   "nbconvert_exporter": "python",
   "pygments_lexer": "ipython3",
   "version": "3.12.7"
  }
 },
 "nbformat": 4,
 "nbformat_minor": 5
}
