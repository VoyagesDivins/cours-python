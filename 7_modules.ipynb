{
 "cells": [
  {
   "cell_type": "markdown",
   "id": "73366f78-8400-4d45-840b-62540140b6be",
   "metadata": {},
   "source": [
    "# Modules et packages\n",
    "\n",
    "Un module est un fichier dans lequel on place des definitions et des instructions.\n",
    "\n",
    "Le module **courses** correpond au  fichier **courses.py**.\n",
    "\n",
    "Pour utiliser un module on utilise le mot-clé **import**"
   ]
  },
  {
   "cell_type": "code",
   "execution_count": 2,
   "id": "4684fbd0-1f03-4dcd-b529-80199c5ae7b2",
   "metadata": {},
   "outputs": [
    {
     "data": {
      "text/plain": [
       "['paprika', 'curcuma']"
      ]
     },
     "execution_count": 2,
     "metadata": {},
     "output_type": "execute_result"
    }
   ],
   "source": [
    "import courses\n",
    "\n",
    "courses.acheter_epices(2)"
   ]
  },
  {
   "cell_type": "markdown",
   "id": "e2da726d-80ee-4e03-b972-6a1e975bdf9a",
   "metadata": {},
   "source": [
    "On peut préciser la partie qui nous intéresse dans le module lors de l'import."
   ]
  },
  {
   "cell_type": "code",
   "execution_count": 3,
   "id": "d581bd2c-4d17-4cd8-af66-6afb5060bd25",
   "metadata": {},
   "outputs": [
    {
     "data": {
      "text/plain": [
       "['Betterave', 'Épinard', 'Poireau']"
      ]
     },
     "execution_count": 3,
     "metadata": {},
     "output_type": "execute_result"
    }
   ],
   "source": [
    "from courses import acheter_legumes\n",
    "\n",
    "acheter_legumes(3)"
   ]
  },
  {
   "cell_type": "markdown",
   "id": "86fa33b6-957f-4e45-a6bb-eee9a6b4025f",
   "metadata": {},
   "source": [
    "Petit programme avec la classe Soupe() du précédent chapitre mise dans un module soupe à part et les fonctions du module courses"
   ]
  },
  {
   "cell_type": "code",
   "execution_count": 10,
   "id": "37f2b5d3-8503-4db1-b52e-caa834d77a36",
   "metadata": {},
   "outputs": [
    {
     "name": "stdout",
     "output_type": "stream",
     "text": [
      "J'ajoute 3 litres d'eau à la soupe\n",
      "Miam ! J'ajoute des Blette à la soupe.\n",
      "Miam ! J'ajoute des Maïs à la soupe.\n",
      "Miam ! J'ajoute des Haricot vert à la soupe.\n",
      "Miam ! J'ajoute des Laitue pommée à la soupe.\n",
      "Un peu de sel...\n",
      "C'est cuit !\n",
      "VRZRZRZBZRZRNZNRNZRN\n",
      "La soupe de Légumes du hasard est prête !\n"
     ]
    }
   ],
   "source": [
    "import courses\n",
    "import soupe\n",
    "\n",
    "mes_legumes = courses.acheter_legumes(4)\n",
    "\n",
    "ma_soupe = soupe.Soupe(\"Légumes du hasard\")\n",
    "\n",
    "ma_soupe.ajout_eau(3)\n",
    "\n",
    "for legume in mes_legumes:\n",
    "    ma_soupe.ajout_legume(legume)\n",
    "\n",
    "ma_soupe.ajout_sel()\n",
    "ma_soupe.cuire()\n",
    "ma_soupe.mixer()\n",
    "ma_soupe.est_ce_que_la_soupe_est_prete()"
   ]
  },
  {
   "cell_type": "markdown",
   "id": "411adb85-f9f8-4c42-951a-efb0e33baa50",
   "metadata": {},
   "source": [
    "## Exercice : partie 1\n",
    "Faire un module **salade_de_fruit** avec dedans une classe **Fruit** et une classe **Salade_de_fruit**.\n",
    "\n",
    "La classe **Fruit** prend en paramètre le nom du fruit.\n",
    "\n",
    "La classe **Fruit** les variable **nom** (type string), **est_lave** (type bool), **est_epluche** (type bool).\n",
    "\n",
    "La classe **Fruit** possède la méthode **Lave()** qui change l'état de la variable **est_lave** de **True** a **False**.\n",
    "\n",
    "La classe **Fruit** possède la méthode **Epeluche()** qui change l'état de la variable **est_epluche** de **True** a **False**.\n",
    "\n",
    "La classe **Salade_de_fruit** contient la variable **fruits** (type liste)\n",
    "\n",
    "La classe **Salade_de_fruit** contient la méthode **ajout_fruit** qui prend en paramètre un objet de classe **Fruit**. La méthode **ajout_fruit** lave le fruit, l'épeluche et l'ajoute à sa variable **fruits**\n",
    "\n",
    "## Exercice : partie 2\n",
    "Créer le fichier **je_m_occupe_du_dessert.py**.\n",
    "\n",
    "Dans ce fichier, importer les modules **courses** et **salade_de_fruit**.\n",
    "\n",
    "Acheter 4 fruits au hasard et faire une salade de fruit avec !"
   ]
  },
  {
   "cell_type": "code",
   "execution_count": null,
   "id": "fbfdde8d-4c6c-4f90-82ea-3e80369490dd",
   "metadata": {},
   "outputs": [],
   "source": []
  }
 ],
 "metadata": {
  "kernelspec": {
   "display_name": "Python 3 (ipykernel)",
   "language": "python",
   "name": "python3"
  },
  "language_info": {
   "codemirror_mode": {
    "name": "ipython",
    "version": 3
   },
   "file_extension": ".py",
   "mimetype": "text/x-python",
   "name": "python",
   "nbconvert_exporter": "python",
   "pygments_lexer": "ipython3",
   "version": "3.12.7"
  }
 },
 "nbformat": 4,
 "nbformat_minor": 5
}
