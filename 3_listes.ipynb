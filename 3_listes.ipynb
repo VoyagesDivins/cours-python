{
 "cells": [
  {
   "cell_type": "markdown",
   "id": "d63bfef7-ed94-4440-b5a3-5232d6ede26a",
   "metadata": {},
   "source": [
    "# Les listes\n",
    "\n",
    "Une liste est une suite de valeur."
   ]
  },
  {
   "cell_type": "code",
   "execution_count": 7,
   "id": "0a3d3f46-3259-4a47-97b9-50c1bb13d51d",
   "metadata": {},
   "outputs": [
    {
     "name": "stdout",
     "output_type": "stream",
     "text": [
      "Représentation de ma liste\n",
      "[1, 2, 3, 4]\n",
      "\n",
      "Type de ma liste :\n",
      "<class 'list'>\n",
      "\n",
      "Tail de ma liste :\n",
      "4\n"
     ]
    }
   ],
   "source": [
    "ma_liste = [1, 2, 3, 4]\n",
    "print(\"Représentation de ma liste\")\n",
    "print(ma_liste)\n",
    "print(\"\\nType de ma liste :\")\n",
    "print(type(ma_liste))\n",
    "print(\"\\nTail de ma liste :\")\n",
    "print(len(ma_liste))"
   ]
  },
  {
   "cell_type": "markdown",
   "id": "e03d09db-0d19-467c-bd9e-7ee777be5c09",
   "metadata": {},
   "source": [
    "La fonction **len()** donne la taille d'une chaine de caractère mais également la taille de liste, le nombre d'élément qu'elle contient.\n",
    "\n",
    "Une liste peut-être vide."
   ]
  },
  {
   "cell_type": "code",
   "execution_count": 1,
   "id": "5e6c794e-4c32-49d9-bcb0-f85d88efe03c",
   "metadata": {},
   "outputs": [
    {
     "name": "stdout",
     "output_type": "stream",
     "text": [
      "Représentation de ma liste\n",
      "[]\n",
      "\n",
      "Taille de ma liste :\n",
      "0\n"
     ]
    }
   ],
   "source": [
    "ma_liste_vide = []\n",
    "print(\"Représentation de ma liste\")\n",
    "print(ma_liste_vide)\n",
    "print(\"\\nTaille de ma liste :\")\n",
    "print(len(ma_liste_vide))"
   ]
  },
  {
   "cell_type": "markdown",
   "id": "43e203cc-cceb-4954-9e24-f3cdf60f7826",
   "metadata": {},
   "source": [
    "Une liste peut contenir du texte :"
   ]
  },
  {
   "cell_type": "code",
   "execution_count": 12,
   "id": "a46027f9-e395-4c19-bbdf-9ac78f4d6f71",
   "metadata": {},
   "outputs": [
    {
     "name": "stdout",
     "output_type": "stream",
     "text": [
      "['rouge', 'indigo', 'violet', 'rouge des flandres']\n",
      "[True, True, False, True, False, False, True]\n"
     ]
    }
   ],
   "source": [
    "liste_de_couleurs = [\"rouge\", \"indigo\", \"violet\", \"rouge des flandres\"]\n",
    "print(liste_de_couleurs)\n",
    "liste_de_booleens = [True, True, False, True, False, False, True]\n",
    "print(liste_de_booleens)"
   ]
  },
  {
   "cell_type": "markdown",
   "id": "84f0d46c-6b8c-4ed5-8ce8-6e5792e205d2",
   "metadata": {},
   "source": [
    "Les éléments contenus dans la liste peuvent être de plusieurs type différents."
   ]
  },
  {
   "cell_type": "code",
   "execution_count": 13,
   "id": "11ecc269-b4bf-42ff-9549-c7f9b90fd747",
   "metadata": {},
   "outputs": [
    {
     "name": "stdout",
     "output_type": "stream",
     "text": [
      "[65, True, False, 'jean', 7.8]\n"
     ]
    }
   ],
   "source": [
    "liste_melangee = [65, True, False, \"jean\", 7.8]\n",
    "print(liste_melangee)"
   ]
  },
  {
   "cell_type": "markdown",
   "id": "36c2a1dc-0838-41fc-bdb1-aed5169d28ff",
   "metadata": {},
   "source": [
    "## Index\n",
    "On accède aux éléments d'une liste par leur index.\n",
    "\n",
    "Le premier élément est à l'index 0.\n",
    "\n",
    "La syntaxe est l'index entre crochet collé au nom de la liste."
   ]
  },
  {
   "cell_type": "code",
   "execution_count": 14,
   "id": "0e66b9ee-8407-457b-baa3-f1cd3a975285",
   "metadata": {},
   "outputs": [
    {
     "name": "stdout",
     "output_type": "stream",
     "text": [
      "rouge\n"
     ]
    }
   ],
   "source": [
    "premiere_couleur = liste_de_couleurs[0]\n",
    "print(premiere_couleur)"
   ]
  },
  {
   "cell_type": "markdown",
   "id": "31759bf1-a34f-4869-99f1-04408e422f3e",
   "metadata": {},
   "source": [
    "Comme l'index commence à zéro, le dernier élément de la liste se trouve à l'indice égal à la taille de la liste moins 1."
   ]
  },
  {
   "cell_type": "code",
   "execution_count": 18,
   "id": "c664d972-a671-4383-a645-58856f8fb2e5",
   "metadata": {},
   "outputs": [
    {
     "name": "stdout",
     "output_type": "stream",
     "text": [
      "rouge des flandres\n",
      "rouge des flandres\n"
     ]
    }
   ],
   "source": [
    "taille_liste = len(liste_de_couleurs)\n",
    "dernier_index = taille_liste - 1\n",
    "derniere_couleur = liste_de_couleurs[dernier_index]\n",
    "print(derniere_couleur)\n",
    "# On peut écrire la même chose en une seule ligne\n",
    "derniere_couleur_bis = liste_de_couleurs[len(liste_de_couleurs) - 1]\n",
    "print(derniere_couleur_bis)"
   ]
  },
  {
   "cell_type": "markdown",
   "id": "8eca95e7-ecf8-4935-a270-ba9defb16059",
   "metadata": {},
   "source": [
    "# Fonctions\n",
    "Comme pour les chaînes de caractères, il existe un grand nombre de fonction sur les listes.\n"
   ]
  },
  {
   "cell_type": "code",
   "execution_count": 27,
   "id": "5d3b41bb-dfe1-47af-9dbe-56f7d27d74cb",
   "metadata": {},
   "outputs": [
    {
     "name": "stdout",
     "output_type": "stream",
     "text": [
      "[4, 2, 8, 1, 3, 7, 9, 10, 0, 6, 5]\n",
      "[0, 1, 2, 3, 4, 5, 6, 7, 8, 9, 10]\n"
     ]
    }
   ],
   "source": [
    "# Trier un liste de nombre dans l'ordre croissant\n",
    "liste_entier = [4, 2, 8, 1, 3, 7, 9, 10, 0, 6, 5]\n",
    "print(liste_entier)\n",
    "liste_entier.sort()\n",
    "print(liste_entier)"
   ]
  },
  {
   "cell_type": "code",
   "execution_count": 28,
   "id": "3460bc49-48cc-4143-b25c-9f503e5d2f12",
   "metadata": {},
   "outputs": [
    {
     "name": "stdout",
     "output_type": "stream",
     "text": [
      "[0, 1, 2, 3, 4, 5, 6, 7, 8, 9, 10, 11]\n"
     ]
    }
   ],
   "source": [
    "# Ajouter un élément à la fin de la liste\n",
    "liste_entier.append(11)\n",
    "print(liste_entier)"
   ]
  },
  {
   "cell_type": "code",
   "execution_count": 31,
   "id": "f5ceafbd-2dce-4d77-8c92-b04cfebf96c4",
   "metadata": {},
   "outputs": [
    {
     "name": "stdout",
     "output_type": "stream",
     "text": [
      "[11, 10, 9, 8, 7, 6, 5, 4, 3, 2, 1, 0]\n"
     ]
    }
   ],
   "source": [
    "# Inverser une liste\n",
    "liste_entier.reverse()\n",
    "print(liste_entier)"
   ]
  },
  {
   "cell_type": "markdown",
   "id": "9f0b19bc-5c3d-45db-bb50-d7cdeef07b2d",
   "metadata": {},
   "source": [
    "# Itération\n",
    "\n",
    "On peut parcourir chaque élément d'une liste un par un avec la structure **for in** :"
   ]
  },
  {
   "cell_type": "code",
   "execution_count": 4,
   "id": "9d504e75-5cf2-4bdc-a62e-54b5aea4e06b",
   "metadata": {},
   "outputs": [
    {
     "name": "stdout",
     "output_type": "stream",
     "text": [
      "Arbre\n",
      "Abricot\n",
      "Melon\n",
      "Fraise\n",
      "Cassis\n",
      "Courgette\n",
      "Ananas\n",
      "Cerise\n",
      "Amande\n"
     ]
    }
   ],
   "source": [
    "liste_mots = [\"Arbre\", \"Abricot\", \"Melon\", \"Fraise\", \"Cassis\", \"Courgette\", \"Ananas\", \"Cerise\", \"Amande\"]\n",
    "\n",
    "for mot in liste_mots:\n",
    "    print(mot)"
   ]
  },
  {
   "cell_type": "code",
   "execution_count": 7,
   "id": "72a20b49-9885-4bef-a284-bd9e594435b0",
   "metadata": {},
   "outputs": [
    {
     "name": "stdout",
     "output_type": "stream",
     "text": [
      "Arbre\n",
      "Abricot\n",
      "Ananas\n",
      "Amande\n"
     ]
    }
   ],
   "source": [
    "for mot in liste_mots:\n",
    "    if mot.startswith(\"A\"):\n",
    "        print(mot)"
   ]
  },
  {
   "cell_type": "markdown",
   "id": "184dcd6f-2366-4155-90ea-1fa7df890d54",
   "metadata": {},
   "source": [
    "## Exercices\n",
    "- Afficher tous les mots de la liste **liste_mots** qui contiennent la lettre **i**.\n",
    "- Afficher, en majuscule, les mots de la liste **liste_mots** qui finissent par la lettre **e**."
   ]
  },
  {
   "cell_type": "code",
   "execution_count": 5,
   "id": "59ff9b67-cd2c-49ed-b1cf-df712c561e8f",
   "metadata": {},
   "outputs": [
    {
     "name": "stdout",
     "output_type": "stream",
     "text": [
      "Abricot\n",
      "Fraise\n",
      "Cassis\n",
      "Cerise\n"
     ]
    }
   ],
   "source": [
    "for mot in [mot for mot in liste_mots if \"i\" in mot]:\n",
    "    print(mot)"
   ]
  },
  {
   "cell_type": "code",
   "execution_count": 7,
   "id": "18572a08-f76f-47e8-b8de-a2365bcf3928",
   "metadata": {},
   "outputs": [
    {
     "name": "stdout",
     "output_type": "stream",
     "text": [
      "Abricot\n",
      "Fraise\n",
      "Cassis\n",
      "Cerise\n"
     ]
    }
   ],
   "source": [
    "liste_avec_mots_i = [mot for mot in liste_mots if \"i\" in mot]\n",
    "for mot in liste_avec_mots_i:\n",
    "    print(mot)"
   ]
  },
  {
   "cell_type": "code",
   "execution_count": 10,
   "id": "c32a0f05-96a5-47c8-824b-f1f9b571e797",
   "metadata": {},
   "outputs": [
    {
     "name": "stdout",
     "output_type": "stream",
     "text": [
      "['Abricot', 'Fraise', 'Cassis', 'Cerise']\n"
     ]
    }
   ],
   "source": [
    "liste_i = []\n",
    "\n",
    "for mot in liste_mots:\n",
    "    if \"i\" in mot:\n",
    "        liste_i.append(mot)\n",
    "\n",
    "print(liste_i)\n",
    "        "
   ]
  },
  {
   "cell_type": "code",
   "execution_count": null,
   "id": "bbdf370c-2b23-40d2-a990-953cfebe982e",
   "metadata": {},
   "outputs": [],
   "source": []
  }
 ],
 "metadata": {
  "kernelspec": {
   "display_name": "Python 3 (ipykernel)",
   "language": "python",
   "name": "python3"
  },
  "language_info": {
   "codemirror_mode": {
    "name": "ipython",
    "version": 3
   },
   "file_extension": ".py",
   "mimetype": "text/x-python",
   "name": "python",
   "nbconvert_exporter": "python",
   "pygments_lexer": "ipython3",
   "version": "3.12.7"
  }
 },
 "nbformat": 4,
 "nbformat_minor": 5
}
