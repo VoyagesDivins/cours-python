{
 "cells": [
  {
   "cell_type": "markdown",
   "id": "45d11ad3-eb28-4471-9f4c-b15427fb1483",
   "metadata": {},
   "source": [
    "# Exercice 1\n",
    "\n",
    "Créer une fonction nommée **signe** qui prend un nombre en paramètre et renvoie \"positif\" s'il est supérieur ou égal à zéro et \"négatif\" s'il est inférieur à zéro."
   ]
  },
  {
   "cell_type": "code",
   "execution_count": 2,
   "id": "1e56b5dc-e0ea-4995-810a-166a3171e0c1",
   "metadata": {},
   "outputs": [
    {
     "name": "stdout",
     "output_type": "stream",
     "text": [
      "test réussi\n"
     ]
    }
   ],
   "source": [
    "# code ici\n",
    "\n",
    "\n",
    "# test de la fonction\n",
    "if signe(4) == \"positif\" and signe(0) == \"positif\" and signe(-9) == \"négatif\":\n",
    "    print(\"test réussi\")\n",
    "else:\n",
    "    print(\"test en échec\")"
   ]
  },
  {
   "cell_type": "markdown",
   "id": "52034dc6-51a2-473b-a2a6-bf47d326cd96",
   "metadata": {},
   "source": [
    "# Exercice 2\n",
    "Créer une fonction nommée **maximum** qui prend en paramètre 2 nombres et qui renvoie le plus grand."
   ]
  },
  {
   "cell_type": "code",
   "execution_count": 4,
   "id": "918932da-9293-4481-bcab-64181171c1fc",
   "metadata": {},
   "outputs": [
    {
     "name": "stdout",
     "output_type": "stream",
     "text": [
      "test réussi\n"
     ]
    }
   ],
   "source": [
    "# code ici\n",
    "\n",
    "# test de la fonction\n",
    "if maximum(5,6) == 6 and maximum(8098, -347) == 8098 and maximum(-34, -56) == -34:\n",
    "    print(\"test réussi\")\n",
    "else:\n",
    "    print(\"test en échec\")\n",
    "    "
   ]
  },
  {
   "cell_type": "markdown",
   "id": "8e19d632-9e08-4383-8e0c-35cddc04f4a6",
   "metadata": {},
   "source": [
    "# Exercice 3\n",
    "Créer une fonction nommée **max_est_positif** qui prend en paramètre deux nombres et qui renvoie \"positif\" si il est supérieur ou égal à zéro et \"négatif\" sinon. La fonction doit faire appel aux fonctions **signe** et **maximum**."
   ]
  },
  {
   "cell_type": "code",
   "execution_count": 6,
   "id": "44926ac1-345c-4314-bc2a-d69c3dd4adad",
   "metadata": {},
   "outputs": [
    {
     "name": "stdout",
     "output_type": "stream",
     "text": [
      "test réussi\n"
     ]
    }
   ],
   "source": [
    "# code ici\n",
    "\n",
    "# test de la fonction\n",
    "if max_est_positif(-5, 34) == \"positif\" and max_est_positif(45, 34) == \"positif\" and max_est_positif(-5, -1) == \"négatif\":\n",
    "    print(\"test réussi\")\n",
    "else:\n",
    "    print(\"test en échec\")"
   ]
  },
  {
   "cell_type": "code",
   "execution_count": null,
   "id": "0e9d69ad-f2a1-46f6-bf82-42c358c988cd",
   "metadata": {},
   "outputs": [],
   "source": []
  }
 ],
 "metadata": {
  "kernelspec": {
   "display_name": "Python 3 (ipykernel)",
   "language": "python",
   "name": "python3"
  },
  "language_info": {
   "codemirror_mode": {
    "name": "ipython",
    "version": 3
   },
   "file_extension": ".py",
   "mimetype": "text/x-python",
   "name": "python",
   "nbconvert_exporter": "python",
   "pygments_lexer": "ipython3",
   "version": "3.12.7"
  }
 },
 "nbformat": 4,
 "nbformat_minor": 5
}
