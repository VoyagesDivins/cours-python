{
 "cells": [
  {
   "cell_type": "markdown",
   "id": "735d1b14-7e70-4cae-9340-65058b302400",
   "metadata": {},
   "source": [
    "# Fonctions\n",
    "\n",
    "Une fonction sert à placer du code qui peut être utilisé plusieurs fois.\n",
    "\n",
    "Elle est définie par le mot **def**.\n",
    "\n",
    "Elle prend entre 0 ou n paramètres.\n",
    "\n",
    "Elle retourne toujours quelque chose. Ce quelque chose peut être nul (None)."
   ]
  },
  {
   "cell_type": "code",
   "execution_count": 4,
   "id": "4d58d192-af62-4355-a20b-01f0d541dde3",
   "metadata": {},
   "outputs": [
    {
     "name": "stdout",
     "output_type": "stream",
     "text": [
      "chat\n",
      "chat\n",
      "<class 'NoneType'>\n"
     ]
    }
   ],
   "source": [
    "# exemple\n",
    "\n",
    "# déclaration de la fonction\n",
    "# la fonction s'appelle \"afficher_chat\"\n",
    "# elle ne prend en compte aucun paramètre\n",
    "def afficher_chat():\n",
    "    # définition du corps de la fonction, ce qu'elle fait\n",
    "    print(\"chat\")\n",
    "\n",
    "# appel de la fonction\n",
    "afficher_chat()\n",
    "\n",
    "# appel de la fonction et du type de retour\n",
    "print(type(afficher_chat()))"
   ]
  },
  {
   "cell_type": "code",
   "execution_count": 7,
   "id": "bc2a7688-354c-43e2-8787-f406056a08ae",
   "metadata": {},
   "outputs": [
    {
     "name": "stdout",
     "output_type": "stream",
     "text": [
      "Salut Etaine !\n",
      "Salut Benoît !\n",
      "Salut Ambre !\n",
      "Salut Matthieu !\n",
      "Salut Coralie !\n",
      "Salut Sylvette !\n"
     ]
    }
   ],
   "source": [
    "# exemple avec 1 paramètre\n",
    "\n",
    "# Définition de la fonction salutation\n",
    "# La fonction prend un paramètre : prénom\n",
    "# Elle ne renvoi rien (None)\n",
    "def salutation(prenom):\n",
    "    print(\"Salut {} !\".format(prenom))\n",
    "\n",
    "# Appel de la fonctoin\n",
    "salutation(\"Etaine\")\n",
    "salutation(\"Benoît\")\n",
    "\n",
    "prenoms = [\"Ambre\", \"Matthieu\", \"Coralie\", \"Sylvette\"]\n",
    "for prenom in prenoms:\n",
    "    salutation(prenom)\n",
    "\n"
   ]
  },
  {
   "cell_type": "code",
   "execution_count": 8,
   "id": "2fdca2d7-f4c8-48e1-a794-c852922d0039",
   "metadata": {},
   "outputs": [
    {
     "name": "stdout",
     "output_type": "stream",
     "text": [
      "25\n",
      "36\n",
      "0\n",
      "1\n",
      "4\n",
      "9\n",
      "16\n",
      "25\n",
      "36\n",
      "49\n",
      "64\n",
      "81\n",
      "100\n",
      "121\n",
      "144\n",
      "169\n",
      "196\n",
      "225\n",
      "256\n",
      "289\n",
      "324\n",
      "361\n"
     ]
    }
   ],
   "source": [
    "# exemple de fonction qui retourne quelque chose\n",
    "\n",
    "def carre(nombre):\n",
    "    return nombre * nombre\n",
    "\n",
    "print(carre(5))\n",
    "print(carre(6))\n",
    "\n",
    "for i in range(20):\n",
    "    print(carre(i))"
   ]
  },
  {
   "cell_type": "code",
   "execution_count": 11,
   "id": "b12fbb98-b708-4ff4-87b9-79b1e5b82ca8",
   "metadata": {},
   "outputs": [
    {
     "name": "stdout",
     "output_type": "stream",
     "text": [
      "5.0\n"
     ]
    }
   ],
   "source": [
    "import math\n",
    "\n",
    "# Une fonction peut en appeler une autre\n",
    "def somme_carre(x, y):\n",
    "    return carre(x) + carre(y)\n",
    "\n",
    "def pythagore(a, b):\n",
    "    return math.sqrt(somme_carre(a, b))\n",
    "\n",
    "\n",
    "print(pythagore(3,4))"
   ]
  },
  {
   "cell_type": "code",
   "execution_count": 13,
   "id": "b86e2cf1-f512-4139-abda-96fa7385370e",
   "metadata": {},
   "outputs": [
    {
     "name": "stdout",
     "output_type": "stream",
     "text": [
      "Coucou Arthur !\n",
      "Coucou Stéphane !\n",
      "Coucou Tout le monde !\n"
     ]
    }
   ],
   "source": [
    "# paramètre par défaut\n",
    "\n",
    "# On donne une valeur par défaut au paramètre, si il n'est pas renseigné à l'appel, c'est cette valeur qui est utilisée.\n",
    "def coucou(prenom = \"Tout le monde\"):\n",
    "    print(\"Coucou {} !\".format(prenom))\n",
    "\n",
    "coucou(\"Arthur\")\n",
    "coucou(\"Stéphane\")\n",
    "coucou()"
   ]
  },
  {
   "cell_type": "code",
   "execution_count": null,
   "id": "4f5f7248-e679-48cf-ba09-7cbff71b39ab",
   "metadata": {},
   "outputs": [],
   "source": [
    "# args, kwargs"
   ]
  }
 ],
 "metadata": {
  "kernelspec": {
   "display_name": "Python 3 (ipykernel)",
   "language": "python",
   "name": "python3"
  },
  "language_info": {
   "codemirror_mode": {
    "name": "ipython",
    "version": 3
   },
   "file_extension": ".py",
   "mimetype": "text/x-python",
   "name": "python",
   "nbconvert_exporter": "python",
   "pygments_lexer": "ipython3",
   "version": "3.12.7"
  }
 },
 "nbformat": 4,
 "nbformat_minor": 5
}
