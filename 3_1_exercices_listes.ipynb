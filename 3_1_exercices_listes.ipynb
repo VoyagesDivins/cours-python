{
 "cells": [
  {
   "cell_type": "markdown",
   "id": "bffa84b0-fd1b-49c2-bb6d-f4797baf9e31",
   "metadata": {},
   "source": [
    "# Exercice sur les listes\n",
    "\n",
    "Nous allons construire une liste de mots français à partir d'un fichier texte ou chaque ligne contient un mot.\n",
    "\n",
    "## Exercice 1\n",
    "\n",
    "Lire le code et les commentaires et essayer de comprendre ce que le programme fait."
   ]
  },
  {
   "cell_type": "code",
   "execution_count": 5,
   "id": "2795ea3a-cdb5-4445-85c4-e597a7372279",
   "metadata": {},
   "outputs": [
    {
     "name": "stdout",
     "output_type": "stream",
     "text": [
      "336531\n",
      "abasourdi\n"
     ]
    }
   ],
   "source": [
    "import os.path\n",
    "\n",
    "nom_fichier = \"liste_de_mots_francais_fr_gut.txt\"\n",
    "liste_mots = []\n",
    "\n",
    "if not os.path.isfile(nom_fichier):\n",
    "    print(\"Le fichier n'existe pas !\")\n",
    "else:\n",
    "    with open(nom_fichier, encoding=\"utf8\") as f:\n",
    "        contenu_fichier = f.read().splitlines()\n",
    "\n",
    "    for ligne in contenu_fichier:\n",
    "        liste_mots.append(ligne)\n",
    "\n",
    "print(len(liste_mots))\n",
    "print(liste_mots[98])\n"
   ]
  },
  {
   "cell_type": "markdown",
   "id": "ca12c08a-2a45-4b97-b55a-5302d1f1b00c",
   "metadata": {},
   "source": [
    "## Exercice 2\n",
    "A partir de la liste de mot créée en exercice 1, contruire une deuxième liste, appelée **liste_mots_sept_lettres**, qui ne contient que des mots de 7 lettres."
   ]
  },
  {
   "cell_type": "markdown",
   "id": "0f048c6c-d523-4c82-bb14-dc04e22898b6",
   "metadata": {},
   "source": [
    "## Exercice 3\n",
    "### 3.1 Lecture\n",
    "Lire et comprendre ce que fait le programme ci-dessus\n",
    "### 3.2 Programme\n",
    "A partir de la liste de lettres de la pioche au scrabble, créer une liste appelée **liste_tirage** de 7 lettres choisies au hasard.\n"
   ]
  },
  {
   "cell_type": "code",
   "execution_count": 7,
   "id": "a2582ce9-f2d0-4f49-b266-004d49ded621",
   "metadata": {},
   "outputs": [
    {
     "name": "stdout",
     "output_type": "stream",
     "text": [
      "['e', 'e', 'e', 'e', 'e', 'e', 'e', 'e', 'e', 'e', 'e', 'e', 'e', 'e', 'e', 'a', 'a', 'a', 'a', 'a', 'a', 'a', 'a', 'a', 'i', 'i', 'i', 'i', 'i', 'i', 'i', 'i', 'n', 'n', 'n', 'n', 'n', 'n', 'o', 'o', 'o', 'o', 'o', 'o', 'r', 'r', 'r', 'r', 'r', 'r', 's', 's', 's', 's', 's', 's', 't', 't', 't', 't', 't', 't', 'u', 'u', 'u', 'u', 'u', 'u', 'l', 'l', 'l', 'l', 'l', 'd', 'd', 'd', 'g', 'g', 'm', 'm', 'm', 'b', 'b', 'c', 'c', 'p', 'p', 'f', 'f', 'h', 'h', 'v', 'v', 'j', 'q', 'k', 'w', 'x', 'y', 'z']\n",
      "\n",
      "La pioche contient 100 lettres.\n"
     ]
    }
   ],
   "source": [
    "pioche = \"E\" * 15 + \"A\" * 9 + \"I\" * 8 + \"N\" * 6 + \"O\" * 6 + \"R\" * 6 + \"S\" * 6 + \"T\" * 6 + \"U\" * 6 + \"L\" * 5\n",
    "pioche += \"D\" * 3 + \"G\" * 2 + \"M\" * 3\n",
    "pioche += \"B\" * 2 + \"C\" * 2 + \"P\" * 2\n",
    "pioche += \"F\" * 2 + \"H\" * 2 + \"V\" * 2\n",
    "pioche += \"J\" * 1 + \"Q\" * 1\n",
    "pioche += \"K\" * 1 + \"W\" * 1 + \"X\" * 1 + \"Y\" * 1 + \"Z\" * 1\n",
    "pioche = pioche.lower()\n",
    "liste_lettres_pioches = list(pioche)\n",
    "print(liste_lettres_pioches)\n",
    "print(\"\\nLa pioche contient {} lettres.\".format(len(liste_lettres_pioches)))"
   ]
  },
  {
   "cell_type": "markdown",
   "id": "ba3ee26e-f5ea-408b-aa01-2103e6aadaa6",
   "metadata": {},
   "source": [
    "## Exercice 4\n",
    "A partir des mots du dictionnaire de 7 lettres contenues dans **liste_mots_sept_lettres** (exercice 2) et des 7 lettres du tirage contenues dans **liste_tirage** vérifier s'il existe un scrabble possible."
   ]
  },
  {
   "cell_type": "code",
   "execution_count": null,
   "id": "c99e2d30-cd7b-41e8-a75b-884b6d203aa4",
   "metadata": {},
   "outputs": [],
   "source": []
  }
 ],
 "metadata": {
  "kernelspec": {
   "display_name": "Python 3 (ipykernel)",
   "language": "python",
   "name": "python3"
  },
  "language_info": {
   "codemirror_mode": {
    "name": "ipython",
    "version": 3
   },
   "file_extension": ".py",
   "mimetype": "text/x-python",
   "name": "python",
   "nbconvert_exporter": "python",
   "pygments_lexer": "ipython3",
   "version": "3.12.7"
  }
 },
 "nbformat": 4,
 "nbformat_minor": 5
}
