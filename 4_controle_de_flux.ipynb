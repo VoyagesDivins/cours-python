{
 "cells": [
  {
   "cell_type": "markdown",
   "metadata": {},
   "source": [
    "# Contrôle de flux\n",
    "## 1. if else\n",
    "Le mot clé if vérifie si une condition est vraie ou dit autrement si sa valeur est True.\n",
    "si c'est vrai le bloc immédiatement après est executé\n",
    "Sinon le bloc immédiatement après else est exécuté.\n",
    "Les blocs de codes après if et else doivent être indentés."
   ]
  },
  {
   "cell_type": "code",
   "execution_count": 2,
   "metadata": {
    "vscode": {
     "languageId": "plaintext"
    }
   },
   "outputs": [
    {
     "name": "stdout",
     "output_type": "stream",
     "text": [
      "C'est vrai\n"
     ]
    }
   ],
   "source": [
    "if True:\n",
    "    print(\"C'est vrai\")\n",
    "else:\n",
    "    print(\"C'est faux\")"
   ]
  },
  {
   "cell_type": "code",
   "execution_count": 4,
   "metadata": {
    "vscode": {
     "languageId": "plaintext"
    }
   },
   "outputs": [
    {
     "name": "stdin",
     "output_type": "stream",
     "text": [
      "Quel est votre solde ? 45\n"
     ]
    },
    {
     "name": "stdout",
     "output_type": "stream",
     "text": [
      "Solde positif !\n"
     ]
    }
   ],
   "source": [
    "solde = input(\"Quel est votre solde ?\")\n",
    "if int(solde) > 0:\n",
    "    print(\"Solde positif !\")\n",
    "else:\n",
    "    print(\"Solde négatif\")"
   ]
  },
  {
   "cell_type": "markdown",
   "metadata": {},
   "source": [
    "### 1.1 elif\n",
    "On peut rajouter le mot clé elif pour ajouter une nouvelle condition si la précédent n'est pas vraie."
   ]
  },
  {
   "cell_type": "code",
   "execution_count": 5,
   "metadata": {},
   "outputs": [
    {
     "name": "stdin",
     "output_type": "stream",
     "text": [
      "Quel est votre solde ? 115000000\n"
     ]
    },
    {
     "name": "stdout",
     "output_type": "stream",
     "text": [
      "Vous êtes milionnaire !\n"
     ]
    }
   ],
   "source": [
    "solde = int(input(\"Quel est votre solde ?\"))\n",
    "if solde > 1000000000:\n",
    "    print(\"Vous êtes miliardaire !\")\n",
    "elif solde > 1000000:\n",
    "    print(\"Vous êtes milionnaire !\")\n",
    "elif solde > 0:\n",
    "    print(\"Solde positif !\")\n",
    "else:\n",
    "    print(\"Solde négatif\")"
   ]
  },
  {
   "cell_type": "markdown",
   "metadata": {},
   "source": [
    "## 2. while\n",
    "Tant qu'une condition est vrai on exécute le bloc qui suit."
   ]
  },
  {
   "cell_type": "code",
   "execution_count": 1,
   "metadata": {},
   "outputs": [
    {
     "name": "stdout",
     "output_type": "stream",
     "text": [
      "10\n",
      "9\n",
      "8\n",
      "7\n",
      "6\n",
      "5\n",
      "4\n",
      "3\n",
      "2\n",
      "1\n",
      "fin\n"
     ]
    }
   ],
   "source": [
    "decompte = 10\n",
    "while decompte != 0:\n",
    "    print(decompte)\n",
    "    decompte = decompte - 1\n",
    "print(\"fin\")"
   ]
  },
  {
   "cell_type": "markdown",
   "metadata": {},
   "source": [
    "## 3. for\n",
    "On exécute le bloc qui suit pour tous les éléments d'une liste."
   ]
  },
  {
   "cell_type": "code",
   "execution_count": 10,
   "metadata": {},
   "outputs": [
    {
     "name": "stdout",
     "output_type": "stream",
     "text": [
      "ROUTE\n",
      "VTT\n",
      "VILLE\n",
      "GRAVEL\n",
      "COURSE\n",
      "TRICYCLE\n"
     ]
    }
   ],
   "source": [
    "velos = [\"route\", \"vtt\", \"ville\", \"gravel\", \"course\", \"tricycle\"]\n",
    "for velo in velos:\n",
    "    print(velo.upper())"
   ]
  },
  {
   "cell_type": "markdown",
   "metadata": {},
   "source": [
    "La fonction **range()** permet de créer une liste de nombre"
   ]
  },
  {
   "cell_type": "code",
   "execution_count": 11,
   "metadata": {},
   "outputs": [
    {
     "name": "stdout",
     "output_type": "stream",
     "text": [
      "0\n",
      "1\n",
      "2\n",
      "3\n",
      "4\n"
     ]
    }
   ],
   "source": [
    "for i in range(5):\n",
    "    print(i)"
   ]
  },
  {
   "cell_type": "code",
   "execution_count": 12,
   "metadata": {},
   "outputs": [
    {
     "name": "stdout",
     "output_type": "stream",
     "text": [
      "10\n",
      "11\n",
      "12\n",
      "13\n",
      "14\n"
     ]
    }
   ],
   "source": [
    "for i in range(10, 15):\n",
    "    print(i)"
   ]
  },
  {
   "cell_type": "code",
   "execution_count": 13,
   "metadata": {},
   "outputs": [
    {
     "name": "stdout",
     "output_type": "stream",
     "text": [
      "0\n",
      "10\n",
      "20\n",
      "30\n",
      "40\n",
      "50\n",
      "60\n",
      "70\n",
      "80\n",
      "90\n"
     ]
    }
   ],
   "source": [
    "for i in range (0, 100, 10):\n",
    "    print(i)"
   ]
  },
  {
   "cell_type": "code",
   "execution_count": 15,
   "metadata": {},
   "outputs": [
    {
     "name": "stdout",
     "output_type": "stream",
     "text": [
      "0 - Route\n",
      "1 - Vtt\n",
      "2 - Ville\n",
      "3 - Gravel\n",
      "4 - Course\n",
      "5 - Tricycle\n"
     ]
    }
   ],
   "source": [
    "for i in range(len(velos)):\n",
    "    print(\"{} - {}\".format(i, velos[i].capitalize()))"
   ]
  },
  {
   "cell_type": "code",
   "execution_count": null,
   "metadata": {},
   "outputs": [],
   "source": []
  }
 ],
 "metadata": {
  "kernelspec": {
   "display_name": "Python 3 (ipykernel)",
   "language": "python",
   "name": "python3"
  },
  "language_info": {
   "codemirror_mode": {
    "name": "ipython",
    "version": 3
   },
   "file_extension": ".py",
   "mimetype": "text/x-python",
   "name": "python",
   "nbconvert_exporter": "python",
   "pygments_lexer": "ipython3",
   "version": "3.12.7"
  }
 },
 "nbformat": 4,
 "nbformat_minor": 4
}
