{
 "cells": [
  {
   "cell_type": "markdown",
   "id": "21358520-b3b6-4259-b827-65ec15f98fef",
   "metadata": {},
   "source": [
    "# Les opérateurs logiques\n",
    "## Rappels logique booléenne\n",
    "\n",
    "De George Bool. [Booléen](https://fr.wikipedia.org/wiki/Bool%C3%A9en)\n",
    "\n",
    "Un booléen a deux valeurs possibles : vrai ou faux.\n",
    "\n",
    "On peut faire des opérations sur ces valeurs :\n",
    "Opérateur ET :\n",
    "\n",
    "vrai ET vrai = vrai\n",
    "\n",
    "vrai ET faux = faux\n",
    "\n",
    "faux ET vrai = faux\n",
    "\n",
    "faux et faux = faux\n",
    "\n",
    "Opérateur OU : \n",
    "\n",
    "vrai OU vrai = vrai\n",
    "\n",
    "vrai OU faux = vrai\n",
    "\n",
    "faux OU vrai = vrai\n",
    "\n",
    "faux ou faux = faux"
   ]
  },
  {
   "cell_type": "code",
   "execution_count": 17,
   "id": "58352ca2-c256-4ab3-ab37-bcb6107d9225",
   "metadata": {},
   "outputs": [
    {
     "name": "stdout",
     "output_type": "stream",
     "text": [
      "Vrai : True\n",
      "Faux : False\n"
     ]
    }
   ],
   "source": [
    "# En python on utilise True et False\n",
    "vrai = True\n",
    "faux = False\n",
    "print(\"Vrai : {}\".format(vrai))\n",
    "print(\"Faux : {}\".format(faux))"
   ]
  },
  {
   "cell_type": "code",
   "execution_count": 16,
   "id": "80ac62f3-83ea-4d62-a4f8-56dc5e3bdcc5",
   "metadata": {},
   "outputs": [
    {
     "name": "stdout",
     "output_type": "stream",
     "text": [
      "Vrai ET Vrai : True\n",
      "Faux ET Vrai : False\n"
     ]
    }
   ],
   "source": [
    "# L'opérateur ET est and\n",
    "print(\"Vrai ET Vrai : {}\".format(vrai and vrai))\n",
    "print(\"Faux ET Vrai : {}\".format(faux and vrai))"
   ]
  },
  {
   "cell_type": "code",
   "execution_count": 15,
   "id": "e8d45c02-d121-431d-9939-d2ed8c83b7ef",
   "metadata": {},
   "outputs": [
    {
     "name": "stdout",
     "output_type": "stream",
     "text": [
      "Vrai OU Faux : True\n",
      "Faux OU Faux : False\n"
     ]
    }
   ],
   "source": [
    "# L'opérateur OU est or\n",
    "print(\"Vrai OU Faux : {}\".format(vrai or faux))\n",
    "print(\"Faux OU Faux : {}\".format(faux or faux))"
   ]
  },
  {
   "cell_type": "markdown",
   "id": "c763ec22-8314-4e1d-951f-c1a1a07af378",
   "metadata": {},
   "source": [
    "## Comparaison\n",
    "On compare des valeurs et le résultats peut-être vrai ou faux.\n",
    "\n",
    "Exemple :\n",
    "- est-ce que 8 est plus grand que 10 ? faux\n",
    "- est-ce que 6 est différent de 7 ? vrai"
   ]
  },
  {
   "cell_type": "markdown",
   "id": "219b7cca-2421-4ead-9458-cc5e289b2913",
   "metadata": {},
   "source": [
    "### Opérateur d'égalité == (deux signes égal collés)\n",
    "Attention à ne pas confondre avec l'opérateur d'affectation = (un seul signe égal)\n",
    "\n",
    "Est-ce qu'une valeur est égale à une autre ?"
   ]
  },
  {
   "cell_type": "code",
   "execution_count": 18,
   "id": "73f5590b-0eee-4aec-b6e0-60e6a8b9910c",
   "metadata": {},
   "outputs": [
    {
     "name": "stdout",
     "output_type": "stream",
     "text": [
      "Six est égal à trois plus trois : True\n",
      "Six est égal à sept : False\n"
     ]
    }
   ],
   "source": [
    "six = 6\n",
    "trois_plus_trois = 6\n",
    "sept = 7\n",
    "six_egal_trois_plus_trois = six == trois_plus_trois\n",
    "print(\"Six est égal à trois plus trois : {}\".format(six_egal_trois_plus_trois))\n",
    "six_egal_sept = six == sept\n",
    "print(\"Six est égal à sept : {}\".format(six_egal_sept))"
   ]
  },
  {
   "cell_type": "markdown",
   "id": "82b4b3d5-1cf5-4a9a-9d42-cc7a42e48426",
   "metadata": {},
   "source": [
    "### Opérateur de différence !=\n",
    "Est-ce qu'en valeur est différente (ou non-égale) à une autre ?"
   ]
  },
  {
   "cell_type": "code",
   "execution_count": 19,
   "id": "a2e84c21-79a0-4016-9ab8-498375943f73",
   "metadata": {},
   "outputs": [
    {
     "name": "stdout",
     "output_type": "stream",
     "text": [
      "Six est différent de sept : True\n"
     ]
    }
   ],
   "source": [
    "six_different_de_sept = six != sept\n",
    "print(\"Six est différent de sept : {}\".format(six_different_de_sept))"
   ]
  },
  {
   "cell_type": "markdown",
   "id": "ff11400a-bf0a-45a5-81fb-7d7a2c82997a",
   "metadata": {},
   "source": [
    "### Opérateur de supériorité >\n",
    "Est-ce qu'une valeur est supérieure à une autre ?"
   ]
  },
  {
   "cell_type": "code",
   "execution_count": 20,
   "id": "f124d242-522d-43bf-b9e8-f614a8629b7c",
   "metadata": {},
   "outputs": [
    {
     "name": "stdout",
     "output_type": "stream",
     "text": [
      "Sept est supérieur à six : True\n",
      "Six est supérieur à trois plus trois : False\n"
     ]
    }
   ],
   "source": [
    "sept_superieur_six = sept > six\n",
    "print(\"Sept est supérieur à six : {}\".format(sept_superieur_six))\n",
    "six_superieur_trois_plus_trois = six > trois_plus_trois\n",
    "print(\"Six est supérieur à trois plus trois : {}\".format(six_superieur_trois_plus_trois))"
   ]
  },
  {
   "cell_type": "markdown",
   "id": "b804ba86-ac9d-46fe-a793-4780201cae26",
   "metadata": {},
   "source": [
    "### Exercice \n",
    "Déclarer deux variables de valeur 10 et 100\n",
    "\n",
    "Comparer ces deux variables et afficher le résultat avec chacun des opérateurs suivants :\n",
    "- inferieur <\n",
    "- inferieur ou égal <=\n",
    "- superieur ou égal >="
   ]
  },
  {
   "cell_type": "markdown",
   "id": "f01cdcef-c34d-46e1-b987-a327c451b5b5",
   "metadata": {},
   "source": [
    "## Booléen et comparaison\n",
    "On peut mélanger les deux :\n",
    "\n",
    "Pour la question :\n",
    "\n",
    "Est-ce que 3 est plus grand que 4 ET 8 égal à 8 ? \n",
    "\n",
    "On peut décomposer en :\n",
    "\n",
    "Est-ce que 3 est plus grand que 4 ? Réponse Faux\n",
    "\n",
    "Est-ce que 8 égal à 8 ? Réponse Vrai\n",
    "\n",
    "Est-ce que Faux et Vrai ? Réponse Faux"
   ]
  },
  {
   "cell_type": "code",
   "execution_count": 25,
   "id": "3789d0a3-e927-49c9-a79d-975ed1f2fcba",
   "metadata": {},
   "outputs": [
    {
     "name": "stdout",
     "output_type": "stream",
     "text": [
      "Sept est supérieur six ET six est égal à trois plus trois : True\n",
      "Sept est supérieur six OU six est égal à trois plus trois : True\n"
     ]
    }
   ],
   "source": [
    "print(\"Sept est supérieur six ET six est égal à trois plus trois : {}\".format(sept_superieur_six and six_egal_trois_plus_trois))\n",
    "print(\"Sept est supérieur six OU six est égal à trois plus trois : {}\".format(sept_superieur_six or six_egal_trois_plus_trois))"
   ]
  },
  {
   "cell_type": "code",
   "execution_count": 38,
   "id": "727eaf16-03df-491d-907a-a4449deefc0c",
   "metadata": {},
   "outputs": [
    {
     "name": "stdin",
     "output_type": "stream",
     "text": [
      "Êtes-vous majeur.e ? oui\n",
      "Avez-vous le permis de conduire ? non\n",
      "Avez-vous assez dormi ? non\n",
      "Avez-vous un chauffeur ? non\n"
     ]
    },
    {
     "name": "stdout",
     "output_type": "stream",
     "text": [
      "\n",
      "Test simple :\n",
      "Bus, train ou vélo\n",
      "\n",
      "Test d'une seule fois :\n",
      "Bus, train ou vélo\n"
     ]
    }
   ],
   "source": [
    "# Exemple interactif\n",
    "\n",
    "# Déclaration d'une fonction pour récupérer la réponse et la convetir en booléen\n",
    "def reponse_en_booleen(reponse):\n",
    "    # Transformation de la réponse en minuscle\n",
    "    reponse_min = reponse.lower()\n",
    "    \n",
    "    # Test si la réponse est parmi les chaines de caractères suivantes : 'true', '1', 't', 'y', 'yes', 'yeah', 'yup', 'certainly', 'uh-huh', 'oui', 'o', 'ok', 'faux'\n",
    "    if reponse_min in ['true', '1', 't', 'y', 'yes', 'yeah', 'yup', 'certainly', 'uh-huh', 'oui', 'o', 'ok', 'faux']:\n",
    "        # si c'est le cas la fonction renvoi True\n",
    "        return True\n",
    "    # Si ce n'est pas le cas nouveau test sur les chaines de caractères suivantes : ['false', '0', 'f', 'n', 'no', 'nope', 'nup', 'wrong', 'nah', 'non', 'n', 'nok'\n",
    "    elif reponse_min in ['false', '0', 'f', 'n', 'no', 'nope', 'nup', 'wrong', 'nah', 'non', 'n', 'nok']:\n",
    "        # si c'est le cas la fonction renvoi False\n",
    "        return False\n",
    "\n",
    "    # Si la réponse ne se trouve dans aucune des listes précédent, on affiche un message et on renvoi None\n",
    "    else:\n",
    "        print(\"Je n'ai pas compris votre réponse\")\n",
    "        return None\n",
    "\n",
    "# Déclaration en une seule ligne de 4 variables, chacune avec une valeur nulle (None) ou absence de valeur.\n",
    "# Equivalent à \n",
    "# majeur = None\n",
    "# permi = None\n",
    "# sommeil = None\n",
    "# chauffeur = None\n",
    "majeur, permi, sommeil, chauffeur = None, None, None, None\n",
    "\n",
    "# while va executer son bloc de code (indenté) tant que la valeur fourni est Vrai.\n",
    "# Tant que la variable majeur est à la valeur None (ou n'a pas de valeur) \n",
    "# la fonction input permet d'afficher un message (comme print() ) \n",
    "# et de récupérer une chaine de caractère tapée par l'utilisateur.\n",
    "# la fonction reponse_en_boolee prend le résultat de la fonction input, c'est à dire ce qu'à tapé l'utilisateur\n",
    "# et le converti en booléen\n",
    "# cette valeur est ensuit affectée à la variable majeur\n",
    "# Si la fonction reponse_en_boolen a répondu True ou False\n",
    "# Le test majeur == None devient False et on sort de la boucle while pour aller à la suivante\n",
    "# si la fonction reponse_en_boolen a répondu None\n",
    "# Le test majeur == None reste None et la boucle while recommence\n",
    "while majeur == None: \n",
    "    majeur = reponse_en_booleen(input(\"Êtes-vous majeur.e ?\"))\n",
    "    \n",
    "\n",
    "while permi == None: \n",
    "    permi = reponse_en_booleen(input(\"Avez-vous le permis de conduire ?\"))\n",
    "\n",
    "while sommeil == None: \n",
    "    sommeil = reponse_en_booleen(input(\"Avez-vous assez dormi ?\"))\n",
    "\n",
    "while chauffeur == None: \n",
    "    chauffeur = reponse_en_booleen(input(\"Avez-vous un chauffeur ?\"))\n",
    "\n",
    "print(\"\\nTest simple :\")\n",
    "if(majeur and permi and sommeil):\n",
    "    print(\"Vous pouvez conduire !\")\n",
    "else:\n",
    "    if(chauffeur):\n",
    "        print(\"Quelqu'un vous emmène\")\n",
    "    else:\n",
    "        print(\"Bus, train ou vélo\")\n",
    "\n",
    "print(\"\\nTest d'une seule fois :\")\n",
    "if((majeur and permi and sommeil) or chauffeur):\n",
    "    print(\"En voiture !\")\n",
    "else:\n",
    "    print(\"Bus, train ou vélo\")\n",
    "        \n"
   ]
  },
  {
   "cell_type": "code",
   "execution_count": null,
   "id": "61f53277-d2b0-4175-b9ea-459e32cdea46",
   "metadata": {},
   "outputs": [],
   "source": []
  }
 ],
 "metadata": {
  "kernelspec": {
   "display_name": "Python 3 (ipykernel)",
   "language": "python",
   "name": "python3"
  },
  "language_info": {
   "codemirror_mode": {
    "name": "ipython",
    "version": 3
   },
   "file_extension": ".py",
   "mimetype": "text/x-python",
   "name": "python",
   "nbconvert_exporter": "python",
   "pygments_lexer": "ipython3",
   "version": "3.12.7"
  }
 },
 "nbformat": 4,
 "nbformat_minor": 5
}
